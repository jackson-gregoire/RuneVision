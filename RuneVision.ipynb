{
  "nbformat": 4,
  "nbformat_minor": 0,
  "metadata": {
    "colab": {
      "name": "RuneVision.ipynb",
      "provenance": [],
      "collapsed_sections": []
    },
    "kernelspec": {
      "display_name": "Python 3",
      "name": "python3"
    },
    "accelerator": "GPU"
  },
  "cells": [
    {
      "cell_type": "code",
      "metadata": {
        "id": "CG6G3iAWQOjw"
      },
      "source": [
        "import tensorflow as tf\r\n",
        "import numpy as np\r\n",
        "import matplotlib.pyplot as plt\r\n",
        "from keras.callbacks import EarlyStopping, TensorBoard\r\n",
        "from keras.layers import Activation, Dense, Flatten, Dropout\r\n",
        "from keras.layers import Conv2D, MaxPooling2D\r\n",
        "from keras.models import Sequential\r\n",
        "from keras.preprocessing.image import ImageDataGenerator\r\n",
        "import sklearn as sk\r\n",
        "from sklearn.model_selection import train_test_split\r\n",
        "from sympy.utilities.iterables import multiset_permutations\r\n",
        "import itertools\r\n",
        "np.set_printoptions(threshold=np.inf)\r\n",
        "import tensorflow_datasets as tfds\r\n",
        "from tensorflow import keras"
      ],
      "execution_count": 2,
      "outputs": []
    },
    {
      "cell_type": "markdown",
      "metadata": {
        "id": "zGzsYaYZhcDo"
      },
      "source": [
        "**My CNN**"
      ]
    },
    {
      "cell_type": "code",
      "metadata": {
        "id": "Ik3HnnxVL09F"
      },
      "source": [
        "labels = np.load(\"/content/drive/MyDrive/numeric_labels.npy\")\r\n",
        "data = np.load(\"/content/drive/MyDrive/data.npy\")"
      ],
      "execution_count": 3,
      "outputs": []
    },
    {
      "cell_type": "code",
      "metadata": {
        "colab": {
          "base_uri": "https://localhost:8080/"
        },
        "id": "w8TlKeI_L8Cl",
        "outputId": "7a3070f5-f70d-4ea3-d759-2e4b3f2c8164"
      },
      "source": [
        "print(labels.shape)\r\n",
        "print(data.shape)"
      ],
      "execution_count": 4,
      "outputs": [
        {
          "output_type": "stream",
          "text": [
            "(1000, 4)\n",
            "(1000, 69, 257, 3)\n"
          ],
          "name": "stdout"
        }
      ]
    },
    {
      "cell_type": "markdown",
      "metadata": {
        "id": "zAr4hMYAIVE9"
      },
      "source": [
        "Run this to create the universal set of classes/permutations."
      ]
    },
    {
      "cell_type": "code",
      "metadata": {
        "id": "gi5zMN9-kQiN"
      },
      "source": [
        "temp = []\r\n",
        "\r\n",
        "for i_1 in range(4):\r\n",
        "  for i_2 in range(4):\r\n",
        "    for i_3 in range(4):\r\n",
        "      for i_4 in range(4):\r\n",
        "        temp = np.append(temp, np.array(list(itertools.permutations([i_1 + 1, i_2 + 1, i_3 + 1, i_4 + 1]))))\r\n",
        "\r\n",
        "temp = temp.reshape((-1, 4))\r\n",
        "\r\n",
        "seen = set()\r\n",
        "one_hot = []\r\n",
        "for item in temp:\r\n",
        "     t = tuple(item)\r\n",
        "     if t not in seen:\r\n",
        "         one_hot.append(item)\r\n",
        "         seen.add(t)\r\n",
        "\r\n",
        "one_hot = np.array(one_hot)"
      ],
      "execution_count": 7,
      "outputs": []
    },
    {
      "cell_type": "code",
      "metadata": {
        "colab": {
          "base_uri": "https://localhost:8080/"
        },
        "id": "YL8hN44jvI5w",
        "outputId": "518de7ed-7edb-48ae-d0b8-d5f1b14d7e36"
      },
      "source": [
        "print(one_hot.shape)"
      ],
      "execution_count": 11,
      "outputs": [
        {
          "output_type": "stream",
          "text": [
            "(256, 4)\n"
          ],
          "name": "stdout"
        }
      ]
    },
    {
      "cell_type": "code",
      "metadata": {
        "id": "AOT2TnMJMVpt"
      },
      "source": [
        "oh_labels = np.zeros((data.shape[0], 256))\r\n",
        "row_counter = 0\r\n",
        "\r\n",
        "for lab in labels:\r\n",
        "  for i in range(256):\r\n",
        "    if np.all(lab == one_hot[i,:]):\r\n",
        "      oh_labels[row_counter, i] = 1\r\n",
        "\r\n",
        "  row_counter += 1"
      ],
      "execution_count": 13,
      "outputs": []
    },
    {
      "cell_type": "code",
      "metadata": {
        "colab": {
          "base_uri": "https://localhost:8080/"
        },
        "id": "LMXLu95uMYQA",
        "outputId": "b7145eea-8be2-4cc7-b67b-b3b5896aae42"
      },
      "source": [
        "print(oh_labels.shape)"
      ],
      "execution_count": 14,
      "outputs": [
        {
          "output_type": "stream",
          "text": [
            "(1000, 256)\n"
          ],
          "name": "stdout"
        }
      ]
    },
    {
      "cell_type": "code",
      "metadata": {
        "id": "VbG3iLXKMgS-"
      },
      "source": [
        "X_train, X_test, y_train, y_test = train_test_split(data, oh_labels, test_size = 0.2, train_size = 0.8)\r\n",
        "X_train = X_train / 255\r\n",
        "X_test = X_test / 255"
      ],
      "execution_count": 16,
      "outputs": []
    },
    {
      "cell_type": "code",
      "metadata": {
        "colab": {
          "base_uri": "https://localhost:8080/"
        },
        "id": "QfAln1kXNKmO",
        "outputId": "7facc17c-3ef5-455c-ae75-8bf88ce218ea"
      },
      "source": [
        "print(X_train.shape)\r\n",
        "print(y_train.shape)"
      ],
      "execution_count": 20,
      "outputs": [
        {
          "output_type": "stream",
          "text": [
            "(800, 69, 257, 3)\n",
            "(800, 256)\n"
          ],
          "name": "stdout"
        }
      ]
    },
    {
      "cell_type": "code",
      "metadata": {
        "id": "NyhLXXC_QTix"
      },
      "source": [
        "def generate_model():\r\n",
        "    model = Sequential()\r\n",
        "    model.add(Conv2D(32, (3,3), padding='same', input_shape=(69, 257, 3)))\r\n",
        "    model.add(Activation('relu'))\r\n",
        "    model.add(MaxPooling2D(pool_size=(2, 2)))\r\n",
        "\r\n",
        "    model.add(Conv2D(64, (3, 3), padding='same'))\r\n",
        "    model.add(Activation('relu'))\r\n",
        "    model.add(MaxPooling2D(pool_size=(2, 2)))\r\n",
        "\r\n",
        "    model.add(Conv2D(128, (3, 3), padding='same'))\r\n",
        "    model.add(Activation('relu'))\r\n",
        "    model.add(MaxPooling2D(pool_size=(2, 2)))\r\n",
        "\r\n",
        "    model.add(Flatten())\r\n",
        "    model.add(Dense(128, activation='relu'))\r\n",
        "    model.add(Dropout(0.2))\r\n",
        "\r\n",
        "    model.add(Dense(256, activation='softmax'))\r\n",
        "\r\n",
        "    model.compile(optimizer='adam',\r\n",
        "                  loss='categorical_crossentropy',\r\n",
        "                  metrics=['accuracy'])\r\n",
        "\r\n",
        "    return model\r\n"
      ],
      "execution_count": 79,
      "outputs": []
    },
    {
      "cell_type": "code",
      "metadata": {
        "id": "zydtx8IkSF_A"
      },
      "source": [
        "model = generate_model() "
      ],
      "execution_count": 80,
      "outputs": []
    },
    {
      "cell_type": "code",
      "metadata": {
        "id": "SYMXwlwC0TPc",
        "colab": {
          "base_uri": "https://localhost:8080/"
        },
        "outputId": "d20bdbe0-a632-472e-ab7b-4cf1a3073d83"
      },
      "source": [
        "history = model.fit(X_train, y_train, batch_size=32, epochs=100, shuffle = True)"
      ],
      "execution_count": 81,
      "outputs": [
        {
          "output_type": "stream",
          "text": [
            "Epoch 1/100\n",
            "25/25 [==============================] - 1s 11ms/step - loss: 53.6357 - accuracy: 0.0080\n",
            "Epoch 2/100\n",
            "25/25 [==============================] - 0s 11ms/step - loss: 5.5448 - accuracy: 0.0121\n",
            "Epoch 3/100\n",
            "25/25 [==============================] - 0s 10ms/step - loss: 5.5389 - accuracy: 0.0086\n",
            "Epoch 4/100\n",
            "25/25 [==============================] - 0s 10ms/step - loss: 5.5613 - accuracy: 0.0181\n",
            "Epoch 5/100\n",
            "25/25 [==============================] - 0s 10ms/step - loss: 5.5238 - accuracy: 0.0050\n",
            "Epoch 6/100\n",
            "25/25 [==============================] - 0s 10ms/step - loss: 5.4854 - accuracy: 0.0100\n",
            "Epoch 7/100\n",
            "25/25 [==============================] - 0s 10ms/step - loss: 5.4485 - accuracy: 0.0132\n",
            "Epoch 8/100\n",
            "25/25 [==============================] - 0s 10ms/step - loss: 5.3535 - accuracy: 0.0171\n",
            "Epoch 9/100\n",
            "25/25 [==============================] - 0s 10ms/step - loss: 5.2135 - accuracy: 0.0404\n",
            "Epoch 10/100\n",
            "25/25 [==============================] - 0s 10ms/step - loss: 5.1173 - accuracy: 0.0441\n",
            "Epoch 11/100\n",
            "25/25 [==============================] - 0s 10ms/step - loss: 4.8153 - accuracy: 0.0605\n",
            "Epoch 12/100\n",
            "25/25 [==============================] - 0s 10ms/step - loss: 4.4399 - accuracy: 0.0952\n",
            "Epoch 13/100\n",
            "25/25 [==============================] - 0s 10ms/step - loss: 3.9524 - accuracy: 0.1567\n",
            "Epoch 14/100\n",
            "25/25 [==============================] - 0s 9ms/step - loss: 3.2859 - accuracy: 0.2487\n",
            "Epoch 15/100\n",
            "25/25 [==============================] - 0s 10ms/step - loss: 2.7043 - accuracy: 0.3669\n",
            "Epoch 16/100\n",
            "25/25 [==============================] - 0s 10ms/step - loss: 2.2740 - accuracy: 0.4645\n",
            "Epoch 17/100\n",
            "25/25 [==============================] - 0s 10ms/step - loss: 1.8895 - accuracy: 0.5251\n",
            "Epoch 18/100\n",
            "25/25 [==============================] - 0s 10ms/step - loss: 1.4941 - accuracy: 0.6249\n",
            "Epoch 19/100\n",
            "25/25 [==============================] - 0s 10ms/step - loss: 1.5296 - accuracy: 0.6524\n",
            "Epoch 20/100\n",
            "25/25 [==============================] - 0s 10ms/step - loss: 1.1545 - accuracy: 0.7115\n",
            "Epoch 21/100\n",
            "25/25 [==============================] - 0s 10ms/step - loss: 1.0592 - accuracy: 0.7243\n",
            "Epoch 22/100\n",
            "25/25 [==============================] - 0s 10ms/step - loss: 1.0829 - accuracy: 0.7261\n",
            "Epoch 23/100\n",
            "25/25 [==============================] - 0s 10ms/step - loss: 0.8920 - accuracy: 0.7661\n",
            "Epoch 24/100\n",
            "25/25 [==============================] - 0s 10ms/step - loss: 0.8086 - accuracy: 0.7702\n",
            "Epoch 25/100\n",
            "25/25 [==============================] - 0s 10ms/step - loss: 0.7653 - accuracy: 0.8031\n",
            "Epoch 26/100\n",
            "25/25 [==============================] - 0s 10ms/step - loss: 0.8523 - accuracy: 0.7902\n",
            "Epoch 27/100\n",
            "25/25 [==============================] - 0s 10ms/step - loss: 0.7139 - accuracy: 0.8330\n",
            "Epoch 28/100\n",
            "25/25 [==============================] - 0s 10ms/step - loss: 0.7471 - accuracy: 0.8008\n",
            "Epoch 29/100\n",
            "25/25 [==============================] - 0s 10ms/step - loss: 0.6299 - accuracy: 0.8386\n",
            "Epoch 30/100\n",
            "25/25 [==============================] - 0s 10ms/step - loss: 0.5079 - accuracy: 0.8696\n",
            "Epoch 31/100\n",
            "25/25 [==============================] - 0s 10ms/step - loss: 0.5659 - accuracy: 0.8343\n",
            "Epoch 32/100\n",
            "25/25 [==============================] - 0s 10ms/step - loss: 0.5836 - accuracy: 0.8530\n",
            "Epoch 33/100\n",
            "25/25 [==============================] - 0s 10ms/step - loss: 0.5297 - accuracy: 0.8733\n",
            "Epoch 34/100\n",
            "25/25 [==============================] - 0s 9ms/step - loss: 0.5426 - accuracy: 0.8517\n",
            "Epoch 35/100\n",
            "25/25 [==============================] - 0s 10ms/step - loss: 0.5389 - accuracy: 0.8563\n",
            "Epoch 36/100\n",
            "25/25 [==============================] - 0s 10ms/step - loss: 0.4901 - accuracy: 0.8632\n",
            "Epoch 37/100\n",
            "25/25 [==============================] - 0s 10ms/step - loss: 0.4980 - accuracy: 0.8676\n",
            "Epoch 38/100\n",
            "25/25 [==============================] - 0s 10ms/step - loss: 0.4754 - accuracy: 0.8595\n",
            "Epoch 39/100\n",
            "25/25 [==============================] - 0s 10ms/step - loss: 0.5214 - accuracy: 0.8722\n",
            "Epoch 40/100\n",
            "25/25 [==============================] - 0s 10ms/step - loss: 0.4633 - accuracy: 0.8830\n",
            "Epoch 41/100\n",
            "25/25 [==============================] - 0s 10ms/step - loss: 0.4152 - accuracy: 0.8837\n",
            "Epoch 42/100\n",
            "25/25 [==============================] - 0s 10ms/step - loss: 0.4727 - accuracy: 0.8793\n",
            "Epoch 43/100\n",
            "25/25 [==============================] - 0s 10ms/step - loss: 0.3777 - accuracy: 0.8972\n",
            "Epoch 44/100\n",
            "25/25 [==============================] - 0s 10ms/step - loss: 0.4581 - accuracy: 0.8738\n",
            "Epoch 45/100\n",
            "25/25 [==============================] - 0s 10ms/step - loss: 0.5140 - accuracy: 0.8672\n",
            "Epoch 46/100\n",
            "25/25 [==============================] - 0s 10ms/step - loss: 0.3714 - accuracy: 0.8986\n",
            "Epoch 47/100\n",
            "25/25 [==============================] - 0s 10ms/step - loss: 0.3744 - accuracy: 0.8859\n",
            "Epoch 48/100\n",
            "25/25 [==============================] - 0s 10ms/step - loss: 0.3867 - accuracy: 0.8941\n",
            "Epoch 49/100\n",
            "25/25 [==============================] - 0s 10ms/step - loss: 0.3479 - accuracy: 0.9140\n",
            "Epoch 50/100\n",
            "25/25 [==============================] - 0s 10ms/step - loss: 0.3146 - accuracy: 0.9121\n",
            "Epoch 51/100\n",
            "25/25 [==============================] - 0s 10ms/step - loss: 0.3087 - accuracy: 0.9111\n",
            "Epoch 52/100\n",
            "25/25 [==============================] - 0s 10ms/step - loss: 0.4006 - accuracy: 0.8925\n",
            "Epoch 53/100\n",
            "25/25 [==============================] - 0s 10ms/step - loss: 0.3395 - accuracy: 0.9128\n",
            "Epoch 54/100\n",
            "25/25 [==============================] - 0s 10ms/step - loss: 0.3617 - accuracy: 0.8990\n",
            "Epoch 55/100\n",
            "25/25 [==============================] - 0s 10ms/step - loss: 0.3469 - accuracy: 0.9121\n",
            "Epoch 56/100\n",
            "25/25 [==============================] - 0s 10ms/step - loss: 0.3671 - accuracy: 0.9042\n",
            "Epoch 57/100\n",
            "25/25 [==============================] - 0s 10ms/step - loss: 0.3360 - accuracy: 0.9077\n",
            "Epoch 58/100\n",
            "25/25 [==============================] - 0s 10ms/step - loss: 0.2874 - accuracy: 0.9015\n",
            "Epoch 59/100\n",
            "25/25 [==============================] - 0s 10ms/step - loss: 0.3159 - accuracy: 0.9131\n",
            "Epoch 60/100\n",
            "25/25 [==============================] - 0s 10ms/step - loss: 0.4087 - accuracy: 0.8922\n",
            "Epoch 61/100\n",
            "25/25 [==============================] - 0s 10ms/step - loss: 0.3068 - accuracy: 0.9154\n",
            "Epoch 62/100\n",
            "25/25 [==============================] - 0s 10ms/step - loss: 0.3314 - accuracy: 0.9000\n",
            "Epoch 63/100\n",
            "25/25 [==============================] - 0s 10ms/step - loss: 0.3402 - accuracy: 0.9013\n",
            "Epoch 64/100\n",
            "25/25 [==============================] - 0s 10ms/step - loss: 0.2987 - accuracy: 0.9289\n",
            "Epoch 65/100\n",
            "25/25 [==============================] - 0s 10ms/step - loss: 0.2670 - accuracy: 0.9310\n",
            "Epoch 66/100\n",
            "25/25 [==============================] - 0s 10ms/step - loss: 0.3112 - accuracy: 0.9120\n",
            "Epoch 67/100\n",
            "25/25 [==============================] - 0s 10ms/step - loss: 0.2932 - accuracy: 0.9189\n",
            "Epoch 68/100\n",
            "25/25 [==============================] - 0s 10ms/step - loss: 0.2933 - accuracy: 0.9130\n",
            "Epoch 69/100\n",
            "25/25 [==============================] - 0s 10ms/step - loss: 0.3581 - accuracy: 0.8978\n",
            "Epoch 70/100\n",
            "25/25 [==============================] - 0s 10ms/step - loss: 0.3609 - accuracy: 0.8993\n",
            "Epoch 71/100\n",
            "25/25 [==============================] - 0s 10ms/step - loss: 0.2972 - accuracy: 0.9233\n",
            "Epoch 72/100\n",
            "25/25 [==============================] - 0s 10ms/step - loss: 0.2874 - accuracy: 0.9235\n",
            "Epoch 73/100\n",
            "25/25 [==============================] - 0s 10ms/step - loss: 0.3128 - accuracy: 0.9046\n",
            "Epoch 74/100\n",
            "25/25 [==============================] - 0s 10ms/step - loss: 0.2634 - accuracy: 0.9246\n",
            "Epoch 75/100\n",
            "25/25 [==============================] - 0s 10ms/step - loss: 0.2383 - accuracy: 0.9193\n",
            "Epoch 76/100\n",
            "25/25 [==============================] - 0s 10ms/step - loss: 0.3265 - accuracy: 0.9059\n",
            "Epoch 77/100\n",
            "25/25 [==============================] - 0s 10ms/step - loss: 0.3413 - accuracy: 0.9009\n",
            "Epoch 78/100\n",
            "25/25 [==============================] - 0s 10ms/step - loss: 0.1926 - accuracy: 0.9493\n",
            "Epoch 79/100\n",
            "25/25 [==============================] - 0s 10ms/step - loss: 0.3098 - accuracy: 0.9029\n",
            "Epoch 80/100\n",
            "25/25 [==============================] - 0s 10ms/step - loss: 0.2671 - accuracy: 0.9038\n",
            "Epoch 81/100\n",
            "25/25 [==============================] - 0s 10ms/step - loss: 0.2138 - accuracy: 0.9423\n",
            "Epoch 82/100\n",
            "25/25 [==============================] - 0s 10ms/step - loss: 0.2846 - accuracy: 0.9189\n",
            "Epoch 83/100\n",
            "25/25 [==============================] - 0s 11ms/step - loss: 0.2910 - accuracy: 0.9277\n",
            "Epoch 84/100\n",
            "25/25 [==============================] - 0s 10ms/step - loss: 0.3465 - accuracy: 0.9229\n",
            "Epoch 85/100\n",
            "25/25 [==============================] - 0s 10ms/step - loss: 0.2977 - accuracy: 0.9198\n",
            "Epoch 86/100\n",
            "25/25 [==============================] - 0s 11ms/step - loss: 0.3506 - accuracy: 0.9042\n",
            "Epoch 87/100\n",
            "25/25 [==============================] - 0s 10ms/step - loss: 0.2928 - accuracy: 0.9213\n",
            "Epoch 88/100\n",
            "25/25 [==============================] - 0s 11ms/step - loss: 0.3289 - accuracy: 0.9169\n",
            "Epoch 89/100\n",
            "25/25 [==============================] - 0s 11ms/step - loss: 0.2855 - accuracy: 0.9132\n",
            "Epoch 90/100\n",
            "25/25 [==============================] - 0s 10ms/step - loss: 0.2811 - accuracy: 0.9169\n",
            "Epoch 91/100\n",
            "25/25 [==============================] - 0s 10ms/step - loss: 0.2130 - accuracy: 0.9427\n",
            "Epoch 92/100\n",
            "25/25 [==============================] - 0s 10ms/step - loss: 0.2062 - accuracy: 0.9348\n",
            "Epoch 93/100\n",
            "25/25 [==============================] - 0s 10ms/step - loss: 0.2103 - accuracy: 0.9332\n",
            "Epoch 94/100\n",
            "25/25 [==============================] - 0s 10ms/step - loss: 0.2756 - accuracy: 0.9171\n",
            "Epoch 95/100\n",
            "25/25 [==============================] - 0s 11ms/step - loss: 0.2528 - accuracy: 0.9386\n",
            "Epoch 96/100\n",
            "25/25 [==============================] - 0s 10ms/step - loss: 0.3483 - accuracy: 0.9127\n",
            "Epoch 97/100\n",
            "25/25 [==============================] - 0s 11ms/step - loss: 0.2757 - accuracy: 0.9170\n",
            "Epoch 98/100\n",
            "25/25 [==============================] - 0s 11ms/step - loss: 0.2568 - accuracy: 0.9225\n",
            "Epoch 99/100\n",
            "25/25 [==============================] - 0s 11ms/step - loss: 0.1961 - accuracy: 0.9354\n",
            "Epoch 100/100\n",
            "25/25 [==============================] - 0s 10ms/step - loss: 0.2378 - accuracy: 0.9268\n"
          ],
          "name": "stdout"
        }
      ]
    },
    {
      "cell_type": "code",
      "metadata": {
        "id": "MCPwkQs9_OdQ",
        "colab": {
          "base_uri": "https://localhost:8080/",
          "height": 573
        },
        "outputId": "2714b5cd-30bf-42f7-de9d-f34b7d4dd3e0"
      },
      "source": [
        "plt.plot(history.history['accuracy'], color = \"blue\")\n",
        "plt.title('Training Accuracy')\n",
        "plt.ylabel('% Accuracy')\n",
        "plt.xlabel('Epoch #')\n",
        "plt.show()\n",
        "plt.plot(history.history['loss'], color = \"orange\")\n",
        "plt.title('Training Loss')\n",
        "plt.ylabel('Loss')\n",
        "plt.xlabel('Epoch #')\n",
        "plt.show()"
      ],
      "execution_count": 82,
      "outputs": [
        {
          "output_type": "display_data",
          "data": {
            "image/png": "[encoded data removed]",
            "text/plain": [
              "<Figure size 432x288 with 1 Axes>"
            ]
          },
          "metadata": {
            "tags": [],
            "needs_background": "light"
          }
        },
        {
          "output_type": "display_data",
          "data": {
            "image/png": "[encoded data removed]",
            "text/plain": [
              "<Figure size 432x288 with 1 Axes>"
            ]
          },
          "metadata": {
            "tags": [],
            "needs_background": "light"
          }
        }
      ]
    },
    {
      "cell_type": "code",
      "metadata": {
        "colab": {
          "base_uri": "https://localhost:8080/"
        },
        "id": "KOygKqsa4qho",
        "outputId": "c4a624de-e7b0-4d58-cf64-d5f20ba57339"
      },
      "source": [
        "test_loss, test_acc = model.evaluate(X_test, y_test)"
      ],
      "execution_count": 84,
      "outputs": [
        {
          "output_type": "stream",
          "text": [
            "7/7 [==============================] - 0s 6ms/step - loss: 25.9740 - accuracy: 0.0050\n"
          ],
          "name": "stdout"
        }
      ]
    },
    {
      "cell_type": "markdown",
      "metadata": {
        "id": "bra9HFpJXZ5e"
      },
      "source": [
        "**Transfer Learning (ImageNetV2)** \\\\\r\n",
        "Not fully implemented."
      ]
    },
    {
      "cell_type": "code",
      "metadata": {
        "colab": {
          "base_uri": "https://localhost:8080/"
        },
        "id": "DhmavVjBV32t",
        "outputId": "a7789993-6777-4b82-9c05-2a1a885a4019"
      },
      "source": [
        "base_model = tf.keras.applications.MobileNetV2(input_shape=(69, 257, 3),\r\n",
        "                                               include_top=False,\r\n",
        "                                               weights='imagenet')\r\n",
        "base_model.trainable = False"
      ],
      "execution_count": null,
      "outputs": [
        {
          "output_type": "stream",
          "text": [
            "WARNING:tensorflow:`input_shape` is undefined or non-square, or `rows` is not in [96, 128, 160, 192, 224]. Weights for input shape (224, 224) will be loaded as the default.\n",
            "Downloading data from https://storage.googleapis.com/tensorflow/keras-applications/mobilenet_v2/mobilenet_v2_weights_tf_dim_ordering_tf_kernels_1.0_224_no_top.h5\n",
            "9412608/9406464 [==============================] - 0s 0us/step\n"
          ],
          "name": "stdout"
        }
      ]
    },
    {
      "cell_type": "code",
      "metadata": {
        "id": "lyzNaZoyWgsa"
      },
      "source": [
        "global_average_layer = tf.keras.layers.GlobalAveragePooling2D()\r\n",
        "prediction_layer = keras.layers.Dense(1)"
      ],
      "execution_count": null,
      "outputs": []
    },
    {
      "cell_type": "code",
      "metadata": {
        "id": "EN0-aIP5WjeC"
      },
      "source": [
        "model = tf.keras.Sequential([\r\n",
        "                              base_model,\r\n",
        "                              global_average_layer,\r\n",
        "                              prediction_layer\r\n",
        "                            ])\r\n",
        "\r\n",
        "base_learning_rate = 0.0001\r\n",
        "model.compile(optimizer=tf.keras.optimizers.RMSprop(lr=base_learning_rate),\r\n",
        "              loss='categorical_crossentropy',\r\n",
        "              metrics=['accuracy'])"
      ],
      "execution_count": null,
      "outputs": []
    },
    {
      "cell_type": "code",
      "metadata": {
        "id": "ShFbzC8pWuC7"
      },
      "source": [
        "history = model.fit(X_train, train_labels, batch_size= 32,epochs=50, shuffle=True)\r\n",
        "\r\n",
        "acc = history.history['accuracy']\r\n",
        "print(acc)\r\n"
      ],
      "execution_count": null,
      "outputs": []
    },
    {
      "cell_type": "code",
      "metadata": {
        "id": "-bpfi4A9XYbo"
      },
      "source": [
        "plt.plot(history.history['accuracy'], color = \"blue\")\r\n",
        "plt.title('ImageNetV2 Training Accuracy')\r\n",
        "plt.ylabel('% Accuracy')\r\n",
        "plt.xlabel('Epoch #')\r\n",
        "plt.show()\r\n",
        "plt.plot(history.history['loss'], color = \"orange\")\r\n",
        "plt.title('ImageNetV2 Training Loss')\r\n",
        "plt.ylabel('Loss')\r\n",
        "plt.xlabel('Epoch #')\r\n",
        "plt.show()"
      ],
      "execution_count": null,
      "outputs": []
    }
  ]
}